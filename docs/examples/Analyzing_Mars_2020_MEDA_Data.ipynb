{
 "cells": [
  {
   "cell_type": "markdown",
   "id": "6da3a54b",
   "metadata": {},
   "source": [
    "# Analyzing Mars 2020 MEDA Data"
   ]
  },
  {
   "cell_type": "code",
   "execution_count": 2,
   "id": "44fb64d5",
   "metadata": {},
   "outputs": [],
   "source": [
    "%matplotlib inline\n",
    "import numpy as np\n",
    "import matplotlib.pyplot as plt\n",
    "import pandas as pd\n",
    "\n",
    "from muldoon.met_timeseries import MetTimeseries\n",
    "from muldoon.utils import *"
   ]
  },
  {
   "cell_type": "code",
   "execution_count": 38,
   "id": "4c267576",
   "metadata": {},
   "outputs": [
    {
     "name": "stdout",
     "output_type": "stream",
     "text": [
      "            SCLK                LMST           LTST  PRESSURE  \\\n",
      "0      674795165  00089M00:01:02.835  0088 23:54:24    759.18   \n",
      "1      674795166  00089M00:01:03.808  0088 23:54:25    759.09   \n",
      "2      674795167  00089M00:01:04.781  0088 23:54:26    759.10   \n",
      "3      674795168  00089M00:01:05.755  0088 23:54:27    759.16   \n",
      "4      674795169  00089M00:01:06.728  0088 23:54:28    759.20   \n",
      "...          ...                 ...            ...       ...   \n",
      "38541  674861997  00089M18:05:07.210  0089 17:58:43    756.12   \n",
      "38542  674861998  00089M18:05:08.184  0089 17:58:44    756.08   \n",
      "38543  674861999  00089M18:05:09.157  0089 17:58:45    756.10   \n",
      "38544  674862000  00089M18:05:10.130  0089 17:58:46    756.08   \n",
      "38545  674862001  00089M18:05:11.103  0089 17:58:47    756.12   \n",
      "\n",
      "       PRESSURE_UNCERTAINTY  TRANSDUCER  \n",
      "0                       NaN           1  \n",
      "1                       NaN           1  \n",
      "2                       NaN           1  \n",
      "3                       NaN           1  \n",
      "4                       NaN           1  \n",
      "...                     ...         ...  \n",
      "38541                   NaN           1  \n",
      "38542                   NaN           1  \n",
      "38543                   NaN           1  \n",
      "38544                   NaN           1  \n",
      "38545                   NaN           1  \n",
      "\n",
      "[38546 rows x 6 columns]\n"
     ]
    }
   ],
   "source": [
    "# Read in data file\n",
    "filename = \"./WE__0089___________DER_PS__________________P01.CSV\"\n",
    "data = pd.read_csv(filename)\n",
    "print(data)"
   ]
  },
  {
   "cell_type": "code",
   "execution_count": 118,
   "id": "5f2113c9",
   "metadata": {},
   "outputs": [
    {
     "name": "stdout",
     "output_type": "stream",
     "text": [
      "17.97972222222222\n"
     ]
    },
    {
     "data": {
      "image/png": "[encoded data removed]",
      "text/plain": [
       "<Figure size 432x288 with 1 Axes>"
      ]
     },
     "metadata": {
      "needs_background": "light"
     },
     "output_type": "display_data"
    }
   ],
   "source": [
    "def which_sol(filename):\n",
    "    \"\"\"\n",
    "    Based on the filename, returns the sol corresponding to a data file\n",
    "    \n",
    "    Args:\n",
    "        filename (str): name of the file\n",
    "        \n",
    "    Returns:\n",
    "        sol (int) associated with that file\n",
    "    \"\"\"\n",
    "    \n",
    "    return int(filename[6:10])\n",
    "\n",
    "def make_seconds_since_midnight(filename):\n",
    "    \"\"\"\n",
    "    The MEDA data provide times in the LTST field in the format \"sol hour:minute:second\". This \n",
    "    \n",
    "    Args:\n",
    "        filename (str): name of the file\n",
    "        \n",
    "    Returns:\n",
    "        number of seconds in each row since midnight of the primary sol for that file\n",
    "    \n",
    "    \"\"\"\n",
    "    \n",
    "    primary_sol = which_sol(filename)\n",
    "    data = pd.read_csv(filename)\n",
    "\n",
    "    # Grab the sols and times associated with each row\n",
    "    sols_str = data['LTST'].str.split(expand=True)[0].values\n",
    "    times_str = data['LTST'].str.split(expand=True)[1].values\n",
    "    \n",
    "    # Turn the times strings into seconds since midnight of the primary sol\n",
    "    delta_sols = sols_str.astype(float) - float(primary_sol)\n",
    "    \n",
    "    # And then in a very cludgey way, convert times to seconds since primary sol's midnight\n",
    "    time = np.array([float(time_str[i].split(\":\")[0]) + delta_sols[i]*24. +\\\n",
    "      float(time_str[i].split(\":\")[1])/60 +\\\n",
    "     float(time_str[i].split(\":\")[2])/3600. for i in range(len(time_str))])\n",
    "    \n",
    "    return time\n",
    "\n",
    "time = make_seconds_since_midnight(filename)"
   ]
  }
 ],
 "metadata": {
  "kernelspec": {
   "display_name": "Python 3",
   "language": "python",
   "name": "python3"
  },
  "language_info": {
   "codemirror_mode": {
    "name": "ipython",
    "version": 3
   },
   "file_extension": ".py",
   "mimetype": "text/x-python",
   "name": "python",
   "nbconvert_exporter": "python",
   "pygments_lexer": "ipython3",
   "version": "3.9.6"
  }
 },
 "nbformat": 4,
 "nbformat_minor": 5
}
